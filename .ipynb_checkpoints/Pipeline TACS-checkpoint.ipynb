{
 "cells": [
  {
   "cell_type": "markdown",
   "metadata": {},
   "source": [
    "# Pipeline for BIAPT lab EEG Preprocessing: \n",
    "#### inspired by: https://github.com/hoechenberger/pybrain_mne/\n",
    "#### adapted by: Charlotte Maschke\n",
    "#### This pipeline uses MNE Python to preprocess EEG data: Plese go here: \n",
    "####                                https://mne.tools/stable/overview/index.html\n",
    "####  for more documentation on MNE Python"
   ]
  },
  {
   "cell_type": "markdown",
   "metadata": {},
   "source": [
    "## Some setup and import"
   ]
  },
  {
   "cell_type": "code",
   "execution_count": 1,
   "metadata": {
    "ExecuteTime": {
     "end_time": "2022-02-07T21:44:24.521216Z",
     "start_time": "2022-02-07T21:44:23.539306Z"
    }
   },
   "outputs": [],
   "source": [
    "import matplotlib\n",
    "import mne_bids\n",
    "import pathlib\n",
    "import mne\n",
    "import os\n",
    "import os.path as op\n",
    "#import openneuro\n",
    "\n",
    "from mne_bids import BIDSPath, read_raw_bids, print_dir_tree, make_report\n",
    "\n",
    "# Ensure Matplotlib uses the Qt5Agg backend, \n",
    "# which is the best choice for MNE-Python's \n",
    "# interactive plotting functions.\n",
    "matplotlib.use('Qt5Agg')\n",
    "\n",
    "import matplotlib.pyplot as plt"
   ]
  },
  {
   "cell_type": "markdown",
   "metadata": {},
   "source": [
    "### Which subject do you want to preprocess? "
   ]
  },
  {
   "cell_type": "code",
   "execution_count": 2,
   "metadata": {
    "ExecuteTime": {
     "end_time": "2022-02-07T21:44:24.525653Z",
     "start_time": "2022-02-07T21:44:24.522906Z"
    }
   },
   "outputs": [],
   "source": [
    "ID = \"TACS01\"\n",
    "session = \"01\"\n",
    "task = \"pre\""
   ]
  },
  {
   "cell_type": "code",
   "execution_count": 3,
   "metadata": {
    "ExecuteTime": {
     "end_time": "2022-02-07T21:44:24.563601Z",
     "start_time": "2022-02-07T21:44:24.529697Z"
    },
    "scrolled": true
   },
   "outputs": [
    {
     "data": {
      "text/plain": [
       "'./Data/sub-TACS01/ses-01/eeg/sub-TACS01_ses-01_task-pre_eeg.set'"
      ]
     },
     "execution_count": 3,
     "metadata": {},
     "output_type": "execute_result"
    }
   ],
   "source": [
    "raw_path = \"./Data/sub-{}/ses-{}/eeg/sub-{}_ses-{}_task-{}_eeg.set\".format(ID,session,ID,session,task)\n",
    "raw_path"
   ]
  },
  {
   "cell_type": "markdown",
   "metadata": {},
   "source": [
    "## Load the raw data!"
   ]
  },
  {
   "cell_type": "code",
   "execution_count": 4,
   "metadata": {
    "ExecuteTime": {
     "end_time": "2022-02-07T21:44:24.700052Z",
     "start_time": "2022-02-07T21:44:24.565221Z"
    },
    "scrolled": true
   },
   "outputs": [
    {
     "name": "stdout",
     "output_type": "stream",
     "text": [
      "Reading C:\\Users\\VivoBook\\Documents\\GitHub\\EEG_Preprocessing_TACS\\Data\\sub-TACS01\\ses-01\\eeg\\sub-TACS01_ses-01_task-pre_eeg.fdt\n"
     ]
    },
    {
     "data": {
      "text/html": [
       "\n",
       "\n",
       "<table class=\"table table-hover table-striped table-sm table-responsive small\">\n",
       "    <tr>\n",
       "        <th>Measurement date</th>\n",
       "<td>Unknown</td>\n",
       "    </tr>\n",
       "    <tr>\n",
       "        <th>Experimenter</th>\n",
       "<td>Unknown</td>\n",
       "    </tr>\n",
       "        <th>Participant</th>\n",
       "<td>Unknown</td>\n",
       "    </tr>\n",
       "    <tr>\n",
       "        <th>Digitized points</th>\n",
       "        <td>129 points</td>\n",
       "    </tr>\n",
       "    <tr>\n",
       "        <th>Good channels</th>\n",
       "        <td>129 EEG</td>\n",
       "    </tr>\n",
       "    <tr>\n",
       "        <th>Bad channels</th>\n",
       "        <td>None</td>\n",
       "    </tr>\n",
       "    <tr>\n",
       "        <th>EOG channels</th>\n",
       "        <td>Not available</td>\n",
       "    </tr>\n",
       "    <tr>\n",
       "        <th>ECG channels</th>\n",
       "        <td>Not available</td>\n",
       "    <tr>\n",
       "        <th>Sampling frequency</th>\n",
       "        <td>1000.00 Hz</td>\n",
       "    </tr>\n",
       "    <tr>\n",
       "        <th>Highpass</th>\n",
       "        <td>0.00 Hz</td>\n",
       "    </tr>\n",
       "    <tr>\n",
       "        <th>Lowpass</th>\n",
       "        <td>500.00 Hz</td>\n",
       "    </tr>\n",
       "\n",
       "    <tr>\n",
       "        <th>Filenames</th>\n",
       "        <td>sub-TACS01_ses-01_task-pre_eeg.fdt</td>\n",
       "    </tr>\n",
       "    <tr>\n",
       "        <th>Duration</th>\n",
       "        <td>00:05:22 (HH:MM:SS)</td>\n",
       "    </tr>\n",
       "</table>\n"
      ],
      "text/plain": [
       "<RawEEGLAB | sub-TACS01_ses-01_task-pre_eeg.fdt, 129 x 322142 (322.1 s), ~172 kB, data not loaded>"
      ]
     },
     "execution_count": 4,
     "metadata": {},
     "output_type": "execute_result"
    }
   ],
   "source": [
    "raw = mne.io.read_raw_eeglab(raw_path)\n",
    "raw"
   ]
  },
  {
   "cell_type": "markdown",
   "metadata": {},
   "source": [
    "## Filter the data"
   ]
  },
  {
   "cell_type": "code",
   "execution_count": 5,
   "metadata": {
    "ExecuteTime": {
     "end_time": "2022-02-07T21:44:24.713183Z",
     "start_time": "2022-02-07T21:44:24.701609Z"
    }
   },
   "outputs": [
    {
     "name": "stdout",
     "output_type": "stream",
     "text": [
      "Number of channels in EEG:\n"
     ]
    },
    {
     "data": {
      "text/plain": [
       "129"
      ]
     },
     "execution_count": 5,
     "metadata": {},
     "output_type": "execute_result"
    }
   ],
   "source": [
    "# this is to load EEG. If you want to load other stuff please refer to the website documetation\n",
    "#eeg_cropped = raw_cropped.pick_types(eeg = True)\n",
    "eeg = raw.pick_types(eeg = True)\n",
    "print('Number of channels in EEG:')\n",
    "#len(eeg_cropped.ch_names)\n",
    "len(eeg.ch_names)"
   ]
  },
  {
   "cell_type": "code",
   "execution_count": 8,
   "metadata": {
    "ExecuteTime": {
     "end_time": "2022-02-07T21:44:30.087141Z",
     "start_time": "2022-02-07T21:44:24.715216Z"
    },
    "scrolled": true
   },
   "outputs": [
    {
     "name": "stdout",
     "output_type": "stream",
     "text": [
      "Filtering raw data in 1 contiguous segment\n",
      "Setting up band-pass filter from 0.1 - 55 Hz\n",
      "\n",
      "FIR filter parameters\n",
      "---------------------\n",
      "Designing a one-pass, zero-phase, non-causal bandpass filter:\n",
      "- Windowed time-domain design (firwin) method\n",
      "- Hamming window with 0.0194 passband ripple and 53 dB stopband attenuation\n",
      "- Lower passband edge: 0.10\n",
      "- Lower transition bandwidth: 0.10 Hz (-6 dB cutoff frequency: 0.05 Hz)\n",
      "- Upper passband edge: 55.00 Hz\n",
      "- Upper transition bandwidth: 13.75 Hz (-6 dB cutoff frequency: 61.88 Hz)\n",
      "- Filter length: 33001 samples (33.001 sec)\n",
      "\n",
      "Setting up band-stop filter from 59 - 61 Hz\n",
      "\n",
      "FIR filter parameters\n",
      "---------------------\n",
      "Designing a one-pass, zero-phase, non-causal bandstop filter:\n",
      "- Windowed time-domain design (firwin) method\n",
      "- Hamming window with 0.0194 passband ripple and 53 dB stopband attenuation\n",
      "- Lower passband edge: 59.35\n",
      "- Lower transition bandwidth: 0.50 Hz (-6 dB cutoff frequency: 59.10 Hz)\n",
      "- Upper passband edge: 60.65 Hz\n",
      "- Upper transition bandwidth: 0.50 Hz (-6 dB cutoff frequency: 60.90 Hz)\n",
      "- Filter length: 6601 samples (6.601 sec)\n",
      "\n"
     ]
    }
   ],
   "source": [
    "# load actual data into system (before it was only metadata)\n",
    "#eeg_cropped.load_data()\n",
    "eeg.load_data()\n",
    "\n",
    "# filter the data between 0.1 to 55 Hz\n",
    "#eeg_cropped_filtered = eeg_cropped.filter(l_freq=0.1, h_freq = 55)\n",
    "eeg_filtered = eeg.filter(l_freq=0.1, h_freq = 55) \n",
    "\n",
    "# notch filter the data for freq =60\n",
    "#eeg_filtered = eeg_cropped_filtered.copy().notch_filter(freqs=60)\n",
    "eeg_notch = eeg_filtered.copy().notch_filter(freqs=60)\n"
   ]
  },
  {
   "cell_type": "markdown",
   "metadata": {
    "ExecuteTime": {
     "end_time": "2022-02-07T20:51:37.136534Z",
     "start_time": "2022-02-07T20:51:37.126783Z"
    }
   },
   "source": [
    "## Visualize raw data to identify bad channels"
   ]
  },
  {
   "cell_type": "code",
   "execution_count": null,
   "metadata": {},
   "outputs": [],
   "source": [
    "#eeg.plot(n_channels=30, duration=30)"
   ]
  },
  {
   "cell_type": "code",
   "execution_count": 9,
   "metadata": {
    "scrolled": true
   },
   "outputs": [
    {
     "data": {
      "text/plain": [
       "<MNEBrowseFigure size 800x749 with 4 Axes>"
      ]
     },
     "execution_count": 9,
     "metadata": {},
     "output_type": "execute_result"
    },
    {
     "name": "stdout",
     "output_type": "stream",
     "text": [
      "Channels marked as bad: none\n"
     ]
    }
   ],
   "source": [
    "eeg_filtered.plot(n_channels=30, duration=30)"
   ]
  },
  {
   "cell_type": "code",
   "execution_count": null,
   "metadata": {
    "ExecuteTime": {
     "end_time": "2022-02-07T21:44:30.440038Z",
     "start_time": "2022-02-07T21:44:30.089470Z"
    },
    "scrolled": true
   },
   "outputs": [],
   "source": [
    "eeg_notch.plot(n_channels=30, duration=30)"
   ]
  },
  {
   "cell_type": "markdown",
   "metadata": {},
   "source": [
    "## Mark channels as bad"
   ]
  },
  {
   "cell_type": "markdown",
   "metadata": {},
   "source": [
    "Identify bad channels"
   ]
  },
  {
   "cell_type": "code",
   "execution_count": null,
   "metadata": {
    "ExecuteTime": {
     "end_time": "2022-02-07T21:44:30.445457Z",
     "start_time": "2022-02-07T21:44:30.442487Z"
    }
   },
   "outputs": [],
   "source": [
    "eeg_filtered.info['bads']= ['E27','E74', 'E94','E114', 'E120', 'E126']"
   ]
  },
  {
   "cell_type": "markdown",
   "metadata": {},
   "source": [
    "Verify if labelled correctly"
   ]
  },
  {
   "cell_type": "code",
   "execution_count": null,
   "metadata": {
    "ExecuteTime": {
     "end_time": "2022-02-07T21:44:30.476418Z",
     "start_time": "2022-02-07T21:44:30.447139Z"
    },
    "scrolled": true
   },
   "outputs": [],
   "source": [
    "print(eeg_filtered.info)"
   ]
  },
  {
   "cell_type": "markdown",
   "metadata": {},
   "source": [
    "### Keep only the brain electrodes"
   ]
  },
  {
   "cell_type": "markdown",
   "metadata": {},
   "source": [
    "### Average Reference the data"
   ]
  },
  {
   "cell_type": "code",
   "execution_count": null,
   "metadata": {
    "ExecuteTime": {
     "end_time": "2022-02-07T21:44:30.849055Z",
     "start_time": "2022-02-07T21:44:30.478874Z"
    }
   },
   "outputs": [],
   "source": [
    "# use the average of all channels as reference\n",
    "eeg_avg_ref = eeg_filtered.copy().set_eeg_reference(ref_channels='average')\n",
    "#eeg_avg_ref.plot()"
   ]
  },
  {
   "cell_type": "code",
   "execution_count": null,
   "metadata": {
    "ExecuteTime": {
     "end_time": "2022-02-07T21:44:30.854038Z",
     "start_time": "2022-02-07T21:44:30.850670Z"
    }
   },
   "outputs": [],
   "source": [
    "print(eeg_avg_ref.info['bads'])"
   ]
  },
  {
   "cell_type": "markdown",
   "metadata": {},
   "source": [
    "### Remove Non-Brain Electrodes and bad channels"
   ]
  },
  {
   "cell_type": "code",
   "execution_count": null,
   "metadata": {
    "ExecuteTime": {
     "end_time": "2022-02-07T21:44:30.882892Z",
     "start_time": "2022-02-07T21:44:30.855951Z"
    }
   },
   "outputs": [],
   "source": [
    "non_brain_el = ['E127', 'E126', 'E17', 'E21', 'E14', 'E25', 'E8', 'E128', 'E125', 'E43', 'E120', 'E48', \n",
    "                'E119', 'E49', 'E113', 'E81', 'E73', 'E88', 'E68', 'E94', 'E63', 'E99', 'E56', 'E107' ]\n",
    "\n",
    "#only add non-brain channels if not already part of noisy channels\n",
    "for e in non_brain_el: \n",
    "    if e not in eeg_avg_ref.info['bads']:\n",
    "        eeg_avg_ref.info['bads'].append(e)\n"
   ]
  },
  {
   "cell_type": "code",
   "execution_count": null,
   "metadata": {
    "ExecuteTime": {
     "end_time": "2022-02-07T21:44:30.965169Z",
     "start_time": "2022-02-07T21:44:30.885130Z"
    }
   },
   "outputs": [],
   "source": [
    "#eeg_avg_ref.info['bads']\n",
    "eeg_brainonly= eeg_avg_ref.copy()"
   ]
  },
  {
   "cell_type": "code",
   "execution_count": null,
   "metadata": {
    "ExecuteTime": {
     "end_time": "2022-02-07T21:44:30.970116Z",
     "start_time": "2022-02-07T21:44:30.966748Z"
    }
   },
   "outputs": [],
   "source": [
    "print(eeg_brainonly.info['bads'])"
   ]
  },
  {
   "cell_type": "code",
   "execution_count": null,
   "metadata": {
    "ExecuteTime": {
     "end_time": "2022-02-07T21:44:31.082110Z",
     "start_time": "2022-02-07T21:44:30.972086Z"
    },
    "scrolled": true
   },
   "outputs": [],
   "source": [
    "# remove channels marked as bad and non-brain channels\n",
    "eeg_brainonly.drop_channels(eeg_filtered.info['bads'])"
   ]
  },
  {
   "cell_type": "markdown",
   "metadata": {},
   "source": [
    "## Let's visualize the PSD"
   ]
  },
  {
   "cell_type": "code",
   "execution_count": null,
   "metadata": {
    "ExecuteTime": {
     "start_time": "2022-02-07T21:44:24.078Z"
    },
    "scrolled": true
   },
   "outputs": [],
   "source": [
    "#fig = eeg_brainonly.plot_psd(fmax = 30)\n",
    "fig = eeg_brainonly.plot_psd(fmin=8,fmax = 12,picks=['E62','E67','E71','E72','E75','E76','E77']) #to plot the peak for one electrode only\n",
    "fig.savefig('./Figures/{}_{}_{}_PSD.jpg'.format(ID,session,task))"
   ]
  },
  {
   "cell_type": "markdown",
   "metadata": {},
   "source": [
    "### Save image with removed channels"
   ]
  },
  {
   "cell_type": "code",
   "execution_count": null,
   "metadata": {
    "ExecuteTime": {
     "start_time": "2022-02-07T21:44:24.118Z"
    }
   },
   "outputs": [],
   "source": [
    "eeg_brainonly.plot_sensors(ch_type='eeg')\n",
    "plt.savefig('./Figures/{}_{}_{}_badchannels.jpg'.format(ID,session,task))\n",
    "plt.close()"
   ]
  },
  {
   "cell_type": "markdown",
   "metadata": {},
   "source": [
    "\n",
    "### Save the data in BIDS format"
   ]
  },
  {
   "cell_type": "code",
   "execution_count": null,
   "metadata": {
    "ExecuteTime": {
     "start_time": "2022-02-07T21:44:24.159Z"
    }
   },
   "outputs": [],
   "source": [
    "#out_dir = pathlib.Path(\"./Results/sub-{}/ses-{}/eeg/\".format(ID,session))\n",
    "\n",
    "#if not os.path.exists(out_dir):\n",
    "    #os.makedirs(out_dir)\n",
    "    \n",
    "#out_path = pathlib.Path(out_dir, \"sub-{}_ses-{}_task-{}.set\".format(ID,session,task))"
   ]
  },
  {
   "cell_type": "code",
   "execution_count": null,
   "metadata": {
    "ExecuteTime": {
     "start_time": "2022-02-07T21:44:24.162Z"
    }
   },
   "outputs": [],
   "source": [
    "#eeg_brainonly.save(out_path,overwrite=True)"
   ]
  },
  {
   "cell_type": "markdown",
   "metadata": {},
   "source": [
    "# Cleaning data"
   ]
  },
  {
   "cell_type": "markdown",
   "metadata": {},
   "source": [
    " ## Reject artifacts based on channel signal amplitude"
   ]
  },
  {
   "cell_type": "code",
   "execution_count": null,
   "metadata": {
    "ExecuteTime": {
     "start_time": "2022-02-07T21:44:24.241Z"
    }
   },
   "outputs": [],
   "source": [
    "reject_criteria = dict(mag=3000e-15,     # 3000 fT\n",
    "                       grad=3000e-13,    # 3000 fT/cm\n",
    "                       eeg=150e-6,       # 150 µV\n",
    "                       eog=200e-6)       # 200 µV\n",
    "\n",
    "flat_criteria = dict(mag=1e-15,          # 1 fT\n",
    "                     grad=1e-13,         # 1 fT/cm\n",
    "                     eeg=1e-6)           # 1 µV"
   ]
  },
  {
   "cell_type": "code",
   "execution_count": null,
   "metadata": {
    "ExecuteTime": {
     "start_time": "2022-02-07T21:44:24.245Z"
    }
   },
   "outputs": [],
   "source": [
    "\n",
    "epochs.drop_bad(reject=reject_criteria, flat=flat_criteria)\n"
   ]
  },
  {
   "cell_type": "code",
   "execution_count": null,
   "metadata": {
    "ExecuteTime": {
     "start_time": "2022-02-07T21:44:24.248Z"
    }
   },
   "outputs": [],
   "source": [
    "epochs = mne.make_fixed_length_epochs(eeg_brainonly, duration = 10,overlap=0, preload=False)"
   ]
  },
  {
   "cell_type": "code",
   "execution_count": null,
   "metadata": {
    "ExecuteTime": {
     "start_time": "2022-02-07T21:44:24.250Z"
    }
   },
   "outputs": [],
   "source": [
    "epochs.plot()"
   ]
  },
  {
   "cell_type": "code",
   "execution_count": null,
   "metadata": {
    "ExecuteTime": {
     "start_time": "2022-02-07T21:44:24.253Z"
    }
   },
   "outputs": [],
   "source": [
    "#STOP"
   ]
  },
  {
   "cell_type": "code",
   "execution_count": null,
   "metadata": {
    "ExecuteTime": {
     "start_time": "2022-02-07T21:44:24.256Z"
    }
   },
   "outputs": [],
   "source": [
    "epochs.save(pathlib.Path(out_dir) / 'epochs_{}_{}_{}.fif'.format(ID,session,task), \n",
    "            overwrite=True)"
   ]
  },
  {
   "cell_type": "code",
   "execution_count": null,
   "metadata": {},
   "outputs": [],
   "source": []
  }
 ],
 "metadata": {
  "kernelspec": {
   "display_name": "Python 3 (ipykernel)",
   "language": "python",
   "name": "python3"
  },
  "language_info": {
   "codemirror_mode": {
    "name": "ipython",
    "version": 3
   },
   "file_extension": ".py",
   "mimetype": "text/x-python",
   "name": "python",
   "nbconvert_exporter": "python",
   "pygments_lexer": "ipython3",
   "version": "3.9.9"
  },
  "toc": {
   "base_numbering": 1,
   "nav_menu": {},
   "number_sections": true,
   "sideBar": true,
   "skip_h1_title": false,
   "title_cell": "Table of Contents",
   "title_sidebar": "Contents",
   "toc_cell": false,
   "toc_position": {},
   "toc_section_display": true,
   "toc_window_display": false
  }
 },
 "nbformat": 4,
 "nbformat_minor": 4
}
